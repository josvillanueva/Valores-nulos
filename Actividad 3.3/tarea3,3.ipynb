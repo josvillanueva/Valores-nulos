{
 "cells": [
  {
   "cell_type": "code",
   "execution_count": 1,
   "metadata": {},
   "outputs": [],
   "source": [
    "import pandas as pd"
   ]
  },
  {
   "cell_type": "code",
   "execution_count": 21,
   "metadata": {},
   "outputs": [],
   "source": [
    "#Definir una funcion que lea cualquier tipo de dataframe\n",
    "def leer_dataframe(dataframe):\n",
    "    if \".csv\" in dataframe:\n",
    "        df = pd.read_csv(dataframe)\n",
    "    elif \".xlsx\" in dataframe:\n",
    "        df = pd.read_excel(dataframe)\n",
    "    elif \".json\" in dataframe:\n",
    "        df = pd.read_json(dataframe)\n",
    "    elif \".html\" in dataframe:\n",
    "        df = pd.read_html(dataframe)\n",
    "\n",
    "    return(df)"
   ]
  },
  {
   "cell_type": "code",
   "execution_count": 30,
   "metadata": {},
   "outputs": [],
   "source": [
    "csv = leer_dataframe(\"Berlin_Alemania.csv\")\n",
    "csv.to_csv(\"Convertido csv.csv\")"
   ]
  },
  {
   "cell_type": "code",
   "execution_count": 31,
   "metadata": {},
   "outputs": [],
   "source": [
    "Excel = leer_dataframe(\"Antigüedad de saldos 17.03.2023.xlsx\")\n",
    "Excel.to_csv(\"Convertido excel.csv\")"
   ]
  },
  {
   "cell_type": "code",
   "execution_count": 32,
   "metadata": {},
   "outputs": [],
   "source": [
    "html = leer_dataframe(\"Data_Airbnb.html\")\n",
    "html = html[13]\n",
    "html.to_csv(\"Convertido html.csv\")"
   ]
  },
  {
   "cell_type": "code",
   "execution_count": 33,
   "metadata": {},
   "outputs": [],
   "source": [
    "json = leer_dataframe(\"data-nl-2015.json\")\n",
    "json.to_csv(\"Convertit jsno.csv\")"
   ]
  }
 ],
 "metadata": {
  "kernelspec": {
   "display_name": "Python 3",
   "language": "python",
   "name": "python3"
  },
  "language_info": {
   "codemirror_mode": {
    "name": "ipython",
    "version": 3
   },
   "file_extension": ".py",
   "mimetype": "text/x-python",
   "name": "python",
   "nbconvert_exporter": "python",
   "pygments_lexer": "ipython3",
   "version": "3.13.2"
  }
 },
 "nbformat": 4,
 "nbformat_minor": 2
}
